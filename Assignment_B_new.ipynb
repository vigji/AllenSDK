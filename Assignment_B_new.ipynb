{
  "nbformat": 4,
  "nbformat_minor": 0,
  "metadata": {
    "colab": {
      "name": "Assignment_B_new.ipynb",
      "provenance": [],
      "authorship_tag": "ABX9TyPCgglq6sQIj8PRbnC0pPpc",
      "include_colab_link": true
    },
    "kernelspec": {
      "name": "python3",
      "display_name": "Python 3"
    },
    "language_info": {
      "name": "python"
    }
  },
  "cells": [
    {
      "cell_type": "markdown",
      "metadata": {
        "id": "view-in-github",
        "colab_type": "text"
      },
      "source": [
        "<a href=\"https://colab.research.google.com/github/vigji/AllenSDK/blob/master/Assignment_B_new.ipynb\" target=\"_parent\"><img src=\"https://colab.research.google.com/assets/colab-badge.svg\" alt=\"Open In Colab\"/></a>"
      ]
    },
    {
      "cell_type": "markdown",
      "metadata": {
        "id": "gi7Q2Umue4XH"
      },
      "source": [
        "# Assignment B Week 1 \n",
        "\n",
        "## Linear-Nonlinear-Poisson (LNP) Model\n",
        "\n",
        "This is the assignment B for Week 1. Below, you find two exercises. Try to finish them, commit your submission notebook, and check out the test result!\n",
        "\n",
        "**Note**: Once you code the two function `estimate_nl` and `estimate_rf` in this notebook, you need to add them to the submission.ipynb file.\n",
        " \n",
        "To check out instructions on how to complete your assignment, you can check out info repo:\n",
        "https://github.com/MScNE-LSMLSDA/course-info\n"
      ]
    },
    {
      "cell_type": "markdown",
      "metadata": {
        "id": "z_fpG6H4g04G"
      },
      "source": [
        "## Exercise 0\n",
        "\n",
        "For the first Exercise, we will use spike triggered average (STA) to compute the optima receptive field (RF) to a neuron, based on its responses on random noise. Then, we will use this estimated linear filter and the actual stimulus You can read about RF estimation on the material in the Moodle.\n",
        "\n",
        "You will be given as source data:\n",
        "  1. A spike train recorded from the neuron (1KHz sampling rate)\n",
        "  2. The movie of white noise that was displayed to the neuron consisting of 200,000 frames, each one 20 pixels by 20 pixels. (1kHz framerate)\n",
        "\n",
        "The source data downloads automatically in the first cell. If you are working on your computer, data will be placed in your working directory. Data is in www.portugueslab.com/courses/LSMLSDA2021/stimulus.npy and www.portugueslab.com/courses/LSMLSDA2021/spikes.npy.\n",
        "\n",
        "\n",
        " 1) Write a function `estimate_rf(st, sp, num_window)` that takes three inputs, the stimulus-train, the spike-train and a temporal window, and returns the receptive field **rf** of the neuron in question  estimated by spike triggered average within the given window. \n",
        " \n",
        " Inputs:\n",
        " - **st**: 3D np.array, (nb_pixels_w x nb_pixels_h x nb_timepoints )\n",
        " - **sp**: 1D np.array, nb_timepoints \n",
        " - **num_window**: int, length of the window\n",
        " Output:\n",
        " - **rf** receptive field, 2D np.array (nb_pixels_w x nb_pixels_h)"
      ]
    },
    {
      "cell_type": "code",
      "metadata": {
        "id": "f2mmGZPxe-gZ"
      },
      "source": [
        "# Here, we download the data:\n",
        "\n",
        "import urllib.request\n",
        "import numpy as np\n",
        "\n",
        "def fetch_data():\n",
        "  files = [\"stimulus.npy\", \"spikes.npy\"]\n",
        "  try:\n",
        "    return [np.load(f) for f in files]\n",
        "  except FileNotFoundError:\n",
        "\n",
        "    for f in files:\n",
        "      urllib.request.urlretrieve(f'http://www.portugueslab.com/courses/LSMLSDA2021/{f}', f)\n",
        "  return [np.load(f) for f in files]\n",
        "\n",
        "stim, spikes = fetch_data()\n",
        "\n"
      ],
      "execution_count": 6,
      "outputs": []
    },
    {
      "cell_type": "markdown",
      "metadata": {
        "id": "ExHUpjEefMnr"
      },
      "source": [
        ""
      ]
    },
    {
      "cell_type": "code",
      "metadata": {
        "id": "TbmvKHC9fL2A"
      },
      "source": [
        "# Function to estimate the RF\n",
        "\n",
        "def estimate_rf(st,sp,num_window):\n",
        "    ...\n",
        "    ...\n",
        "    ...\n",
        "    ...\n",
        "\n",
        "\n",
        "    return rf"
      ],
      "execution_count": 2,
      "outputs": []
    },
    {
      "cell_type": "code",
      "metadata": {
        "id": "PANINRFFfRmm"
      },
      "source": [
        ""
      ],
      "execution_count": null,
      "outputs": []
    },
    {
      "cell_type": "markdown",
      "metadata": {
        "id": "UtYhFskRfR-1"
      },
      "source": [
        "## Exercise 1 [optional]\n",
        "\n",
        "As you have read in the course material for the assignment, LNP models of neurons consist of three parts:\n",
        "1) a linear filter that compute the firing rate as linear term, \n",
        "2) a nonlinear term that takes as input the result of the linear filter and applies a nonlinear function to it (the easiest can be a rectified linear function, or a saturating sigmoid) to produce the expected firing rate. This is reasonable to expect as neurons have a threshold to fire!\n",
        "3) a poisson process that generate spikes from the expected firing rate computed in the nonlinear function.\n",
        "\n",
        "In Exercise 0, we calculated the RF for the neuron (which under some assumptions can be done even not considering the nonlinearity). Now, we need to see if we can reconstruct the nonlinearity considering what our linear RF predicts as the neuron activity, and the neuron actual firing. \n",
        "\n",
        "Your task is to try to estimate the nonlinearity function of the neuron. The nonlinearity will be a curve of final firing rate in Hz as a function of activations computed with the RF and the stimulus, and produces \n",
        "\n",
        "1) Write a function `estimate_nl(st,sp,rf,N)` that takes four inputs, the receptive field, the stimilus **st**, the spike-train **sp**, the receptive field **rf**  and the duration of the non-linearity **N** and returns the non-linearity function **Y** estimated at time points **X** ."
      ]
    },
    {
      "cell_type": "code",
      "metadata": {
        "id": "P6rx2kzVfVSH"
      },
      "source": [
        "def estimate_nl(st,sp,rf,N):\n",
        "    ...\n",
        "    ...\n",
        "    ...\n",
        "    ...\n",
        "\n",
        "\n",
        "    return X,Y"
      ],
      "execution_count": 3,
      "outputs": []
    },
    {
      "cell_type": "markdown",
      "metadata": {
        "id": "ucvWPUilgG9S"
      },
      "source": [
        "2) Run the nonlinearity code on the receptive field that you computed in Exercice 0.5 using **N=100 **time-points. "
      ]
    },
    {
      "cell_type": "code",
      "metadata": {
        "colab": {
          "base_uri": "https://localhost:8080/",
          "height": 130
        },
        "id": "CPPhZSiegBL0",
        "outputId": "ed67bbe8-8a3c-43fe-f32d-78d42a1978af"
      },
      "source": [
        "\n",
        "\n",
        "# Insert code here and plot\n",
        "\n",
        "....\n",
        "....\n",
        "\n",
        "\n",
        "plt.figure()\n",
        "plt.plot(X,Y)"
      ],
      "execution_count": 4,
      "outputs": [
        {
          "output_type": "error",
          "ename": "SyntaxError",
          "evalue": "ignored",
          "traceback": [
            "\u001b[0;36m  File \u001b[0;32m\"<ipython-input-4-cce6ae5d04c9>\"\u001b[0;36m, line \u001b[0;32m5\u001b[0m\n\u001b[0;31m    ....\u001b[0m\n\u001b[0m        ^\u001b[0m\n\u001b[0;31mSyntaxError\u001b[0m\u001b[0;31m:\u001b[0m invalid syntax\n"
          ]
        }
      ]
    },
    {
      "cell_type": "code",
      "metadata": {
        "id": "nvu-e90ggC79"
      },
      "source": [
        "\n"
      ],
      "execution_count": null,
      "outputs": []
    },
    {
      "cell_type": "code",
      "metadata": {
        "id": "ToAsu2nvgFwF"
      },
      "source": [
        ""
      ],
      "execution_count": null,
      "outputs": []
    }
  ]
}